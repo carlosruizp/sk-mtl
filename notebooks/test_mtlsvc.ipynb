{
 "cells": [
  {
   "cell_type": "code",
   "execution_count": 1,
   "id": "d4d4f45e-51b8-47f2-ad53-0fa6c80347d6",
   "metadata": {},
   "outputs": [],
   "source": [
    "%load_ext autoreload\n",
    "%autoreload 2\n",
    "\n",
    "from sklearn.datasets import make_regression\n",
    "\n",
    "from skmtl import ConvexMTLSVC"
   ]
  },
  {
   "cell_type": "code",
   "execution_count": 2,
   "id": "ef3affaf-1938-40bc-80c7-51297875837b",
   "metadata": {},
   "outputs": [],
   "source": [
    "estim = ConvexMTLSVC()"
   ]
  },
  {
   "cell_type": "code",
   "execution_count": 3,
   "id": "4bfa039f-9d44-4bdb-a513-2f66070ebc3b",
   "metadata": {},
   "outputs": [
    {
     "data": {
      "text/plain": [
       "{'C': 1.0,\n",
       " 'break_ties': False,\n",
       " 'cache_size': 200,\n",
       " 'ccoef0': 0.0,\n",
       " 'cdegree': 3,\n",
       " 'cgamma': 'scale',\n",
       " 'ckernel': 'rbf',\n",
       " 'class_weight': None,\n",
       " 'decision_function_shape': 'ovr',\n",
       " 'lamb': 0.5,\n",
       " 'max_iter': -1,\n",
       " 'mtl_type': 'joint',\n",
       " 'probability': False,\n",
       " 'random_state': None,\n",
       " 'scoef0': 0.0,\n",
       " 'sdegree': 3,\n",
       " 'sgamma': 'scale',\n",
       " 'shrinking': True,\n",
       " 'skernel': 'rbf',\n",
       " 'tol': 0.001,\n",
       " 'verbose': False}"
      ]
     },
     "execution_count": 3,
     "metadata": {},
     "output_type": "execute_result"
    }
   ],
   "source": [
    "estim.get_params()"
   ]
  },
  {
   "cell_type": "code",
   "execution_count": 4,
   "id": "48427ea9-603b-447b-884b-2f6cf5c3d2a5",
   "metadata": {},
   "outputs": [
    {
     "data": {
      "text/plain": [
       "'precomputed'"
      ]
     },
     "execution_count": 4,
     "metadata": {},
     "output_type": "execute_result"
    }
   ],
   "source": [
    "estim.kernel"
   ]
  },
  {
   "cell_type": "code",
   "execution_count": 5,
   "id": "dd821b52-de39-4348-979e-a407da69d4b9",
   "metadata": {},
   "outputs": [
    {
     "data": {
      "text/plain": [
       "'rbf'"
      ]
     },
     "execution_count": 5,
     "metadata": {},
     "output_type": "execute_result"
    }
   ],
   "source": [
    "estim.ckernel"
   ]
  },
  {
   "cell_type": "code",
   "execution_count": 6,
   "id": "f182ae6e-6052-4fb8-b5c3-8eba29f0a184",
   "metadata": {},
   "outputs": [],
   "source": [
    "X, y = make_regression()"
   ]
  },
  {
   "cell_type": "code",
   "execution_count": 7,
   "id": "eec2acfb-946d-4a56-b1ec-40f6215515cf",
   "metadata": {},
   "outputs": [
    {
     "name": "stderr",
     "output_type": "stream",
     "text": [
      "ic| self.kernel: 'precomputed'\n"
     ]
    },
    {
     "ename": "AttributeError",
     "evalue": "'ConvexMTLSVC' object has no attribute '_compute_mtl_kernel'",
     "output_type": "error",
     "traceback": [
      "\u001b[0;31m---------------------------------------------------------------------------\u001b[0m",
      "\u001b[0;31mAttributeError\u001b[0m                            Traceback (most recent call last)",
      "\u001b[0;32m/tmp/ipykernel_12504/2533531256.py\u001b[0m in \u001b[0;36m<module>\u001b[0;34m\u001b[0m\n\u001b[0;32m----> 1\u001b[0;31m \u001b[0mestim\u001b[0m\u001b[0;34m.\u001b[0m\u001b[0mfit\u001b[0m\u001b[0;34m(\u001b[0m\u001b[0mX\u001b[0m\u001b[0;34m,\u001b[0m \u001b[0my\u001b[0m\u001b[0;34m)\u001b[0m\u001b[0;34m\u001b[0m\u001b[0;34m\u001b[0m\u001b[0m\n\u001b[0m",
      "\u001b[0;32m~/Documents/Universidad/doctorado/sk-mtl/skmtl/mtlsvm.py\u001b[0m in \u001b[0;36mfit\u001b[0;34m(self, X, y, task_info, sample_weight)\u001b[0m\n\u001b[1;32m    349\u001b[0m \u001b[0;34m\u001b[0m\u001b[0m\n\u001b[1;32m    350\u001b[0m         \u001b[0;31m# Compute MTL kernel\u001b[0m\u001b[0;34m\u001b[0m\u001b[0;34m\u001b[0m\u001b[0m\n\u001b[0;32m--> 351\u001b[0;31m         \u001b[0mG\u001b[0m \u001b[0;34m=\u001b[0m \u001b[0mself\u001b[0m\u001b[0;34m.\u001b[0m\u001b[0m_compute_mtl_kernel\u001b[0m\u001b[0;34m(\u001b[0m\u001b[0mX\u001b[0m\u001b[0;34m,\u001b[0m \u001b[0mX\u001b[0m\u001b[0;34m,\u001b[0m \u001b[0mmtl_type\u001b[0m\u001b[0;34m=\u001b[0m\u001b[0mself\u001b[0m\u001b[0;34m.\u001b[0m\u001b[0mmtl_type\u001b[0m\u001b[0;34m)\u001b[0m\u001b[0;34m\u001b[0m\u001b[0;34m\u001b[0m\u001b[0m\n\u001b[0m\u001b[1;32m    352\u001b[0m \u001b[0;34m\u001b[0m\u001b[0m\n\u001b[1;32m    353\u001b[0m         \u001b[0;31m# Fit\u001b[0m\u001b[0;34m\u001b[0m\u001b[0;34m\u001b[0m\u001b[0m\n",
      "\u001b[0;31mAttributeError\u001b[0m: 'ConvexMTLSVC' object has no attribute '_compute_mtl_kernel'"
     ]
    }
   ],
   "source": [
    "estim.fit(X, y)"
   ]
  },
  {
   "cell_type": "code",
   "execution_count": null,
   "id": "9d9c2255-e693-403d-9d6f-8a3dabc8f388",
   "metadata": {},
   "outputs": [],
   "source": []
  }
 ],
 "metadata": {
  "kernelspec": {
   "display_name": "Python 3 (ipykernel)",
   "language": "python",
   "name": "python3"
  },
  "language_info": {
   "codemirror_mode": {
    "name": "ipython",
    "version": 3
   },
   "file_extension": ".py",
   "mimetype": "text/x-python",
   "name": "python",
   "nbconvert_exporter": "python",
   "pygments_lexer": "ipython3",
   "version": "3.9.7"
  }
 },
 "nbformat": 4,
 "nbformat_minor": 5
}
