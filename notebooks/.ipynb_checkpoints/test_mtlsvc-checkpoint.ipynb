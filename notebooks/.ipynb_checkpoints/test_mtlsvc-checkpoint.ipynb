{
 "cells": [
  {
   "cell_type": "code",
   "execution_count": null,
   "id": "d4d4f45e-51b8-47f2-ad53-0fa6c80347d6",
   "metadata": {},
   "outputs": [],
   "source": [
    "%load_ext autoreload\n",
    "%autoreload 2\n",
    "\n",
    "from sklearn.datasets import make_regression\n",
    "\n",
    "from skmtl import ConvexMTLSVC"
   ]
  },
  {
   "cell_type": "code",
   "execution_count": null,
   "id": "ef3affaf-1938-40bc-80c7-51297875837b",
   "metadata": {},
   "outputs": [],
   "source": [
    "estim = ConvexMTLSVC()"
   ]
  },
  {
   "cell_type": "code",
   "execution_count": null,
   "id": "4bfa039f-9d44-4bdb-a513-2f66070ebc3b",
   "metadata": {},
   "outputs": [],
   "source": [
    "estim.get_params()"
   ]
  },
  {
   "cell_type": "code",
   "execution_count": null,
   "id": "48427ea9-603b-447b-884b-2f6cf5c3d2a5",
   "metadata": {},
   "outputs": [],
   "source": [
    "estim.kernel"
   ]
  },
  {
   "cell_type": "code",
   "execution_count": null,
   "id": "dd821b52-de39-4348-979e-a407da69d4b9",
   "metadata": {},
   "outputs": [],
   "source": [
    "estim.ckernel"
   ]
  },
  {
   "cell_type": "code",
   "execution_count": null,
   "id": "f182ae6e-6052-4fb8-b5c3-8eba29f0a184",
   "metadata": {},
   "outputs": [],
   "source": [
    "X, y = make_regression()"
   ]
  },
  {
   "cell_type": "code",
   "execution_count": null,
   "id": "eec2acfb-946d-4a56-b1ec-40f6215515cf",
   "metadata": {},
   "outputs": [],
   "source": [
    "estim.fit(X, y)"
   ]
  },
  {
   "cell_type": "code",
   "execution_count": null,
   "id": "9d9c2255-e693-403d-9d6f-8a3dabc8f388",
   "metadata": {},
   "outputs": [],
   "source": []
  }
 ],
 "metadata": {
  "kernelspec": {
   "display_name": "Python 3 (ipykernel)",
   "language": "python",
   "name": "python3"
  },
  "language_info": {
   "codemirror_mode": {
    "name": "ipython",
    "version": 3
   },
   "file_extension": ".py",
   "mimetype": "text/x-python",
   "name": "python",
   "nbconvert_exporter": "python",
   "pygments_lexer": "ipython3",
   "version": "3.9.7"
  }
 },
 "nbformat": 4,
 "nbformat_minor": 5
}
